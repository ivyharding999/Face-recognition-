{
 "cells": [
  {
   "cell_type": "code",
   "execution_count": 1,
   "metadata": {},
   "outputs": [
    {
     "name": "stderr",
     "output_type": "stream",
     "text": [
      "d:\\python\\lib\\site-packages\\h5py\\__init__.py:36: FutureWarning: Conversion of the second argument of issubdtype from `float` to `np.floating` is deprecated. In future, it will be treated as `np.float64 == np.dtype(float).type`.\n",
      "  from ._conv import register_converters as _register_converters\n"
     ]
    }
   ],
   "source": [
    "# 读取人脸数据库olivettifaces,并存储为pkl文件\n",
    "import numpy as np\n",
    "from PIL import Image\n",
    "import pickle\n",
    "from sklearn.model_selection import train_test_split\n",
    "import tensorflow as tf\n",
    "import matplotlib.pyplot as plt\n",
    "from datetime import datetime\n",
    "import xlwt"
   ]
  },
  {
   "cell_type": "markdown",
   "metadata": {},
   "source": [
    "## 处理gif文件"
   ]
  },
  {
   "cell_type": "code",
   "execution_count": 9,
   "metadata": {},
   "outputs": [],
   "source": [
    "# 读取原始图片并转换为numpy.ndarray,将灰度值由0-256转换为0-1\n",
    "img = Image.open('E:/ivy_machine_learning/program/莫烦学习/人脸识别/olivettifaces.gif')   # np.shape(img)=(1140,942)\n",
    "img_ndarray = np.asarray(img, dtype='float64')/256\n",
    "\n",
    "#图片大小时1140*942，一共20*20个人脸图，故每张人脸图大小为（1140/20）*（942/20）\n",
    "#即57*47=2679#将全部400个样本存储为一个400*2679的数组，每一行即代表一个人脸图，\n",
    "#并且第0～9、10～19、20～29...行分别属于同个人脸#另外，用olivettifaces_label表示\n",
    "#每一个样本的类别，它是400维的向量，有0～39共40类，代表40个不同的人。\n",
    "olivettifaces=np.empty((400,2679))  # 返回一个新的空数组\n",
    "for i in range(20):\n",
    "    for j in range(20):\n",
    "        olivettifaces[i*20+j]=np.ndarray.flatten(img_ndarray [i*57:(i+1)*57,j*47:(j+1)*47])\n",
    "        \n",
    "olivettifaces_label=np.empty(400)\n",
    "for label in range(40):\n",
    "    olivettifaces_label[label*10:label*10+10]=label\n",
    "olivettifaces_label=olivettifaces_label.astype(np.int)    # olivettifaces_label.shape = [400,1]\n",
    "\n",
    "######将标签处理成One_hot类型\n",
    "# label,shape =(400,1)=====>labels,shape =(400,40)\n",
    "num_labels = olivettifaces_label.shape[0]\n",
    "num_classes=40\n",
    "index_offset = np.arange(num_labels) * num_classes\n",
    "labels_one_hot = np.zeros((num_labels, num_classes))\n",
    "labels_one_hot.flat[index_offset + olivettifaces_label] = 1\n",
    "label = labels_one_hot\n",
    "faces = olivettifaces \n",
    "# print(label.shape)\n",
    "\n",
    "\n",
    "#保存olivettifaces以及olivettifaces_label到olivettifaces.pkl文件\n",
    "write_file=open('E:/ivy_machine_learning/program/莫烦学习/人脸识别/faces_data.pkl','wb')  \n",
    "pickle.dump(faces,write_file)  # 将数据存入pickle\n",
    "pickle.dump(label,write_file) #将标签存入Pickle \n",
    "write_file.close() "
   ]
  },
  {
   "cell_type": "code",
   "execution_count": 3,
   "metadata": {},
   "outputs": [
    {
     "data": {
      "text/plain": [
       "array([ 0,  0,  0,  0,  0,  0,  0,  0,  0,  0,  1,  1,  1,  1,  1,  1,  1,\n",
       "        1,  1,  1,  2,  2,  2,  2,  2,  2,  2,  2,  2,  2,  3,  3,  3,  3,\n",
       "        3,  3,  3,  3,  3,  3,  4,  4,  4,  4,  4,  4,  4,  4,  4,  4,  5,\n",
       "        5,  5,  5,  5,  5,  5,  5,  5,  5,  6,  6,  6,  6,  6,  6,  6,  6,\n",
       "        6,  6,  7,  7,  7,  7,  7,  7,  7,  7,  7,  7,  8,  8,  8,  8,  8,\n",
       "        8,  8,  8,  8,  8,  9,  9,  9,  9,  9,  9,  9,  9,  9,  9, 10, 10,\n",
       "       10, 10, 10, 10, 10, 10, 10, 10, 11, 11, 11, 11, 11, 11, 11, 11, 11,\n",
       "       11, 12, 12, 12, 12, 12, 12, 12, 12, 12, 12, 13, 13, 13, 13, 13, 13,\n",
       "       13, 13, 13, 13, 14, 14, 14, 14, 14, 14, 14, 14, 14, 14, 15, 15, 15,\n",
       "       15, 15, 15, 15, 15, 15, 15, 16, 16, 16, 16, 16, 16, 16, 16, 16, 16,\n",
       "       17, 17, 17, 17, 17, 17, 17, 17, 17, 17, 18, 18, 18, 18, 18, 18, 18,\n",
       "       18, 18, 18, 19, 19, 19, 19, 19, 19, 19, 19, 19, 19, 20, 20, 20, 20,\n",
       "       20, 20, 20, 20, 20, 20, 21, 21, 21, 21, 21, 21, 21, 21, 21, 21, 22,\n",
       "       22, 22, 22, 22, 22, 22, 22, 22, 22, 23, 23, 23, 23, 23, 23, 23, 23,\n",
       "       23, 23, 24, 24, 24, 24, 24, 24, 24, 24, 24, 24, 25, 25, 25, 25, 25,\n",
       "       25, 25, 25, 25, 25, 26, 26, 26, 26, 26, 26, 26, 26, 26, 26, 27, 27,\n",
       "       27, 27, 27, 27, 27, 27, 27, 27, 28, 28, 28, 28, 28, 28, 28, 28, 28,\n",
       "       28, 29, 29, 29, 29, 29, 29, 29, 29, 29, 29, 30, 30, 30, 30, 30, 30,\n",
       "       30, 30, 30, 30, 31, 31, 31, 31, 31, 31, 31, 31, 31, 31, 32, 32, 32,\n",
       "       32, 32, 32, 32, 32, 32, 32, 33, 33, 33, 33, 33, 33, 33, 33, 33, 33,\n",
       "       34, 34, 34, 34, 34, 34, 34, 34, 34, 34, 35, 35, 35, 35, 35, 35, 35,\n",
       "       35, 35, 35, 36, 36, 36, 36, 36, 36, 36, 36, 36, 36, 37, 37, 37, 37,\n",
       "       37, 37, 37, 37, 37, 37, 38, 38, 38, 38, 38, 38, 38, 38, 38, 38, 39,\n",
       "       39, 39, 39, 39, 39, 39, 39, 39, 39])"
      ]
     },
     "execution_count": 3,
     "metadata": {},
     "output_type": "execute_result"
    }
   ],
   "source": [
    "olivettifaces_label"
   ]
  },
  {
   "cell_type": "code",
   "execution_count": 4,
   "metadata": {},
   "outputs": [],
   "source": [
    "######将标签处理成One_hot类型\n",
    "# label,shape =(400,1)=====>labels,shape =(400,40)\n",
    "num_labels = olivettifaces_label.shape[0]\n",
    "num_classes=40\n",
    "index_offset = np.arange(num_labels) * num_classes\n",
    "labels_one_hot = np.zeros((num_labels, num_classes))\n",
    "labels_one_hot.flat[index_offset + olivettifaces_label] = 1\n",
    "# label = labels_one_hot\n",
    "# print(label.shape)"
   ]
  },
  {
   "cell_type": "code",
   "execution_count": 5,
   "metadata": {},
   "outputs": [
    {
     "data": {
      "text/plain": [
       "(400, 40)"
      ]
     },
     "execution_count": 5,
     "metadata": {},
     "output_type": "execute_result"
    }
   ],
   "source": [
    "labels_one_hot.shape"
   ]
  },
  {
   "cell_type": "code",
   "execution_count": 6,
   "metadata": {},
   "outputs": [
    {
     "data": {
      "text/plain": [
       "array([1., 0., 0., 0., 0., 0., 0., 0., 0., 0., 0., 0., 0., 0., 0., 0., 0.,\n",
       "       0., 0., 0., 0., 0., 0., 0., 0., 0., 0., 0., 0., 0., 0., 0., 0., 0.,\n",
       "       0., 0., 0., 0., 0., 0.])"
      ]
     },
     "execution_count": 6,
     "metadata": {},
     "output_type": "execute_result"
    }
   ],
   "source": [
    "labels_one_hot[1]"
   ]
  },
  {
   "cell_type": "markdown",
   "metadata": {},
   "source": [
    "## 从olivettifaces.pkl中读取显示单张图片："
   ]
  },
  {
   "cell_type": "code",
   "execution_count": 10,
   "metadata": {},
   "outputs": [
    {
     "data": {
      "image/png": "[encoded data removed]",
      "text/plain": [
       "<Figure size 432x288 with 1 Axes>"
      ]
     },
     "metadata": {},
     "output_type": "display_data"
    }
   ],
   "source": [
    "read_file=open('E:/ivy_machine_learning/program/莫烦学习/人脸识别/faces_data.pkl','rb')  \n",
    "faces=pickle.load(read_file)   # faces.shape = [400,2679] \n",
    "label=pickle.load(read_file)  # label.shape=(400,40)\n",
    "read_file.close() \n",
    "img1=np.reshape(faces[1],(57,47))   # 我们将数据集扁平化处理了\n",
    "plt.imshow(img1,'gray')\n",
    "# plt.axis('off')\n",
    "plt.show()"
   ]
  },
  {
   "cell_type": "code",
   "execution_count": 17,
   "metadata": {},
   "outputs": [
    {
     "name": "stdout",
     "output_type": "stream",
     "text": [
      "9\n"
     ]
    }
   ],
   "source": [
    "i = 99\n",
    "# true_label = list(label[i]).index(1)\n",
    "true_label = np.argmax(label[i])\n",
    "print(true_label)"
   ]
  },
  {
   "cell_type": "markdown",
   "metadata": {},
   "source": [
    "## 将样本分拆为训练样本、验证样本、测试样本（数据预处理部分）"
   ]
  },
  {
   "cell_type": "code",
   "execution_count": 2,
   "metadata": {},
   "outputs": [
    {
     "name": "stdout",
     "output_type": "stream",
     "text": [
      "(320, 2679)\n",
      "(320, 40)\n",
      "(80, 2679)\n",
      "(80, 40)\n"
     ]
    }
   ],
   "source": [
    "# 读取olivettifaces.pkl文件，分为训练集（40*8个样本），验证集（40*1个样本），测试集（40*1个样本）\n",
    "read_file=open('E:/ivy_machine_learning/program/莫烦学习/人脸识别/faces_data.pkl','rb')   \n",
    "faces=pickle.load(read_file)  # faces.shape=(400,2679)\n",
    "label=pickle.load(read_file)  # label.shape=(400,40)\n",
    "read_file.close() \n",
    "train_data,test_data, train_label,test_label = train_test_split(faces,label,test_size=0.2,random_state=33, shuffle=True)\n",
    "print(train_data.shape)\n",
    "print(train_label.shape)\n",
    "print(test_data.shape)\n",
    "print(test_label.shape)"
   ]
  },
  {
   "cell_type": "markdown",
   "metadata": {},
   "source": [
    "## tensorflow 训练网络"
   ]
  },
  {
   "cell_type": "code",
   "execution_count": 3,
   "metadata": {},
   "outputs": [],
   "source": [
    "# 我们先设计4层卷积结构\n",
    "#第一层 2679---1024个神经元，第二层1024---512个神经元，第三层512---128个神经元，第四层是 128----40,Softmax输出层，有 40个神经元，因为我们要识别的数组为0~39，共40个\n",
    "# 定义各个参数：\n",
    "def model(X):\n",
    "    W1 = tf.get_variable('W1',[2679,1024],initializer=tf.contrib.layers.xavier_initializer())\n",
    "    b1 = tf.get_variable('b1',[1024],initializer=tf.zeros_initializer())\n",
    "    W2 = tf.get_variable('W2',[1024,512],initializer=tf.contrib.layers.xavier_initializer())\n",
    "    b2 = tf.get_variable('b2',[512],initializer=tf.zeros_initializer())\n",
    "    W3 = tf.get_variable('W3',[512,128],initializer=tf.contrib.layers.xavier_initializer())\n",
    "    b3 = tf.get_variable('b3',[128],initializer=tf.zeros_initializer())\n",
    "    W4 = tf.get_variable('W4',[128,40],initializer=tf.contrib.layers.xavier_initializer())\n",
    "    b4 = tf.get_variable('b4',[40],initializer=tf.zeros_initializer())\n",
    "\n",
    "    # 计算网络中间的logits（就是我们常用的Z）、激活值：全部都是全链接的关系\n",
    "    A1 = tf.nn.relu(tf.matmul(X,W1)+b1,name='A1')   \n",
    "    A2 = tf.nn.relu(tf.matmul(A1,W2)+b2,name='A2')\n",
    "    A3 = tf.nn.relu(tf.matmul(A2,W3)+b3,name='A3')\n",
    "    Z4 = tf.matmul(A3,W4)+b4\n",
    "    return Z4\n",
    "def compute_accuracy(v_xs,v_ys):\n",
    "    global prediction  #将prediction定义为全局变量\n",
    "    y_pre = sess.run(prediction,feed_dict={X:v_xs})  ##得到1行10列的数据，也就是[1,10]\n",
    "    correct_prediction = tf.equal(tf.argmax(y_pre,1),tf.argmax(v_ys,1))\n",
    "    ##取第二维概率最大的（这里索引了最大值的位置），同样标签为最大的值也是我真实的标签值（索引了位置）（我的标签是one_hot类型的）\n",
    "    ###判断预测和真实标签的index是否一样，一样就代表预测正确，否则就错误\n",
    "    accuracy = tf.reduce_mean(tf.cast(correct_prediction,tf.float32))\n",
    "    result = sess.run(accuracy,feed_dict={X:v_xs,Y:v_ys})\n",
    "    return result"
   ]
  },
  {
   "cell_type": "markdown",
   "metadata": {},
   "source": [
    "### 搭建数据流（根据网络结构，定义各参数、变量，并搭建图（graph））-----------------用于训练"
   ]
  },
  {
   "cell_type": "code",
   "execution_count": 19,
   "metadata": {},
   "outputs": [
    {
     "name": "stdout",
     "output_type": "stream",
     "text": [
      "(?, 40)\n",
      "loss: 2018-12-07 10:34:35.365665    Iteration =  0   loss = 3.756\n",
      "loss: 2018-12-07 10:34:36.547820    Iteration =  20   loss = 1.640\n",
      "loss: 2018-12-07 10:34:37.759684    Iteration =  40   loss = 0.206\n",
      "loss: 2018-12-07 10:34:39.233617    Iteration =  60   loss = 0.033\n",
      "loss: 2018-12-07 10:34:40.510794    Iteration =  80   loss = 0.013\n",
      "loss: 2018-12-07 10:34:41.767091    Iteration =  100   loss = 0.008\n",
      "loss: 2018-12-07 10:34:43.046158    Iteration =  120   loss = 0.006\n",
      "loss: 2018-12-07 10:34:44.207084    Iteration =  140   loss = 0.004\n",
      "loss: 2018-12-07 10:34:45.365107    Iteration =  160   loss = 0.003\n",
      "loss: 2018-12-07 10:34:46.544724    Iteration =  180   loss = 0.003\n",
      "loss: 2018-12-07 10:34:47.707027    Iteration =  200   loss = 0.002\n",
      "loss: 2018-12-07 10:34:49.013351    Iteration =  220   loss = 0.002\n",
      "loss: 2018-12-07 10:34:50.180942    Iteration =  240   loss = 0.002\n",
      "loss: 2018-12-07 10:34:51.524367    Iteration =  260   loss = 0.001\n",
      "loss: 2018-12-07 10:34:52.727219    Iteration =  280   loss = 0.001\n",
      "loss: 2018-12-07 10:34:53.878989    Iteration =  300   loss = 0.001\n",
      "loss: 2018-12-07 10:34:55.046093    Iteration =  320   loss = 0.001\n",
      "loss: 2018-12-07 10:34:56.243150    Iteration =  340   loss = 0.001\n",
      "loss: 2018-12-07 10:34:57.475722    Iteration =  360   loss = 0.001\n",
      "loss: 2018-12-07 10:34:58.783967    Iteration =  380   loss = 0.001\n",
      "loss: 2018-12-07 10:35:00.308897    Iteration =  400   loss = 0.001\n",
      "loss: 2018-12-07 10:35:02.053384    Iteration =  420   loss = 0.001\n",
      "loss: 2018-12-07 10:35:03.826165    Iteration =  440   loss = 0.000\n",
      "loss: 2018-12-07 10:35:05.371553    Iteration =  460   loss = 0.000\n",
      "loss: 2018-12-07 10:35:06.810865    Iteration =  480   loss = 0.000\n",
      "loss: 2018-12-07 10:35:08.309427    Iteration =  500   loss = 0.000\n",
      "loss: 2018-12-07 10:35:09.526560    Iteration =  520   loss = 0.000\n",
      "loss: 2018-12-07 10:35:10.660969    Iteration =  540   loss = 0.000\n",
      "loss: 2018-12-07 10:35:11.826344    Iteration =  560   loss = 0.000\n",
      "loss: 2018-12-07 10:35:13.124905    Iteration =  580   loss = 0.000\n",
      "loss: 2018-12-07 10:35:14.581721    Iteration =  600   loss = 0.000\n",
      "loss: 2018-12-07 10:35:15.769774    Iteration =  620   loss = 0.000\n",
      "loss: 2018-12-07 10:35:16.927418    Iteration =  640   loss = 0.000\n",
      "loss: 2018-12-07 10:35:18.294992    Iteration =  660   loss = 0.000\n",
      "loss: 2018-12-07 10:35:19.456472    Iteration =  680   loss = 0.000\n",
      "loss: 2018-12-07 10:35:20.750349    Iteration =  700   loss = 0.000\n",
      "loss: 2018-12-07 10:35:21.908785    Iteration =  720   loss = 0.000\n",
      "loss: 2018-12-07 10:35:23.069143    Iteration =  740   loss = 0.000\n",
      "loss: 2018-12-07 10:35:24.368717    Iteration =  760   loss = 0.000\n",
      "loss: 2018-12-07 10:35:25.798138    Iteration =  780   loss = 0.000\n",
      "loss: 2018-12-07 10:35:27.219588    Iteration =  800   loss = 0.000\n",
      "loss: 2018-12-07 10:35:28.363237    Iteration =  820   loss = 0.000\n",
      "loss: 2018-12-07 10:35:29.504446    Iteration =  840   loss = 0.000\n",
      "loss: 2018-12-07 10:35:30.637777    Iteration =  860   loss = 0.000\n",
      "loss: 2018-12-07 10:35:31.948723    Iteration =  880   loss = 0.000\n",
      "loss: 2018-12-07 10:35:33.298277    Iteration =  900   loss = 0.000\n",
      "loss: 2018-12-07 10:35:34.566735    Iteration =  920   loss = 0.000\n",
      "loss: 2018-12-07 10:35:35.733169    Iteration =  940   loss = 0.000\n",
      "loss: 2018-12-07 10:35:36.970320    Iteration =  960   loss = 0.000\n",
      "loss: 2018-12-07 10:35:38.230760    Iteration =  980   loss = 0.000\n",
      "loss: 2018-12-07 10:35:39.467772    Iteration =  1000   loss = 0.000\n",
      "test_accuracy: 0.9\n",
      "train_accuracy: 1.0\n"
     ]
    }
   ],
   "source": [
    "# 方法1------------------------trian\n",
    "# 搭建图-----会话图\n",
    "# workbook = xlwt.Workbook() \n",
    "# sheet = workbook.add_sheet(\"loss\") \n",
    "with tf.Graph().as_default():\n",
    "#     tf.reset_default_graph() # 这个可以不用细究，是为了防止重复定义报错\n",
    "    ###define placeholder for inputs to network # 给X、Y定义placeholder，要指定数据类型、形状：\n",
    "    X = tf.placeholder(tf.float32,[None,2679],name='X')  ##57*47，None表示其值大小不定，在这里作为第一个维度值，用以指代batch的大小，意即x的数量不定\n",
    "    Y = tf.placeholder(tf.float32,[None,40],name='Y')  ##40类输出\n",
    "    global_steps = tf.Variable(1, trainable=False)\n",
    "    # 先定义网络-----获得prediction\n",
    "    prediction = model(X)\n",
    "    print(prediction.shape)\n",
    "    # 定义我们的cost\n",
    "    cost = tf.reduce_mean(tf.nn.softmax_cross_entropy_with_logits_v2(logits=prediction,labels=Y))\n",
    "    # 定义optimizer来minimize cost\n",
    "    trainer = tf.train.AdamOptimizer().minimize(cost,global_step=global_steps)\n",
    "    saver = tf.train.Saver()\n",
    "  \n",
    "    format_str = \"%s    Iteration =  %d   loss = %0.3f\"\n",
    "    with tf.Session() as sess:\n",
    "        # 首先给所有的变量都初始化（不用管什么意思，反正是一句必须的话）：\n",
    "        sess.run(tf.global_variables_initializer())\n",
    "\n",
    "        # 定义一个costs列表，来装迭代过程中的cost，从而好画图分析模型训练进展\n",
    "        costs = []  \n",
    "\n",
    "        # 指定迭代次数：\n",
    "        for it in range(1000+1):\n",
    "            #############怎么定义batch_size\n",
    "    #         error:The value of a feed cannot be a tf.Tensor object. Acceptable feed values include Python scalars, strings, lists, or numpy ndarrays\n",
    "    #     数据集是feed输入的，feed的数据格式是有要求的。\n",
    "    # 解决：img,label = sess.run[img,label], 用返回值。\n",
    "    #         image_batch, label_batch = get_batch_data(train_data,train_label)\n",
    "    #         image_batch, label_batch = sess.run([image_batch, label_batch])\n",
    "            # 我们最终需要的是trainer跑起来，并获得cost，所以我们run trainer和cost，同时要把X、Y给feed进去：\n",
    "    #         _,batch_cost = sess.run([trainer,cost],feed_dict={X:image_batch,Y:label_batch,keep_prob:0.5})\n",
    "            _,batch_cost = sess.run([trainer,cost],feed_dict={X:train_data,Y:train_label})  #这样写就没有batch_size的概念\n",
    "#             sheet.write(it, 0, it)\n",
    "#             loss_new = str(round(batch_cost, 3))\n",
    "#             sheet.write(it, 1, loss_new)\n",
    "#             workbook.save('loss_face.xls')\n",
    "\n",
    "            # 每100个迭代就打印一次cost：\n",
    "            if it % 20 == 0:\n",
    "#                 print('iteration%d ,batch_cost: '%it,batch_cost)\n",
    "                print('loss:',format_str%(datetime.now(),it,batch_cost))\n",
    "                costs.append(batch_cost)\n",
    "\n",
    "#             if it % 200 == 0:\n",
    "#                 checkpoint = 'saver_face/' + 'model.ckpt'\n",
    "#                 saver.save(sess, checkpoint, global_step=global_steps)  \n",
    "                \n",
    "#             if it % 1000 == 0:\n",
    "#                 write_file=open('E:/ivy_machine_learning/program/莫烦学习/人脸识别/faces_loss1.pkl','wb')  \n",
    "#                 pickle.dump(costs,write_file)  # 将数据存入pickle\n",
    "#                 write_file.close() \n",
    "        \n",
    "         ### 训练结束后，看下测试集和训练集上的正确率\n",
    "        print('test_accuracy:',compute_accuracy(test_data,test_label))\n",
    "        print('train_accuracy:',compute_accuracy(train_data,train_label))"
   ]
  },
  {
   "cell_type": "markdown",
   "metadata": {},
   "source": [
    "### 用于测试"
   ]
  },
  {
   "cell_type": "code",
   "execution_count": 5,
   "metadata": {},
   "outputs": [
    {
     "name": "stdout",
     "output_type": "stream",
     "text": [
      "INFO:tensorflow:Restoring parameters from saver_face/model.ckpt-1002\n",
      "Training set accuracy:  1.0\n",
      "Test set accuracy: 0.95\n",
      "true_label VS prediction: 23 23\n",
      "true_label VS prediction: 32 32\n",
      "true_label VS prediction: 37 37\n",
      "true_label VS prediction: 9 9\n",
      "true_label VS prediction: 32 32\n",
      "true_label VS prediction: 37 37\n",
      "true_label VS prediction: 9 9\n",
      "true_label VS prediction: 7 7\n",
      "true_label VS prediction: 37 37\n",
      "true_label VS prediction: 9 9\n",
      "true_label VS prediction: 7 7\n",
      "true_label VS prediction: 14 14\n",
      "true_label VS prediction: 9 9\n",
      "true_label VS prediction: 7 7\n",
      "true_label VS prediction: 14 14\n",
      "true_label VS prediction: 32 32\n"
     ]
    },
    {
     "data": {
      "image/png": "[encoded data removed]",
      "text/plain": [
       "<Figure size 1080x1080 with 16 Axes>"
      ]
     },
     "metadata": {},
     "output_type": "display_data"
    }
   ],
   "source": [
    "####测试\n",
    "with tf.Graph().as_default():\n",
    "    X = tf.placeholder(tf.float32,[None,2679],name='X')  ##57*47，None表示其值大小不定，在这里作为第一个维度值，用以指代batch的大小，意即x的数量不定\n",
    "    Y = tf.placeholder(tf.float32,[None,40],name='Y')  ##40类输出\n",
    "    prediction = model(X)\n",
    "    saver = tf.train.Saver()\n",
    "    with tf.Session() as sess:\n",
    "        saver.restore(sess, 'saver_face/model.ckpt-1002')\n",
    "        print(\"Training set accuracy: \",compute_accuracy(train_data,train_label))\n",
    "        print(\"Test set accuracy:\",compute_accuracy(test_data,test_label))\n",
    "        pre = sess.run(prediction,feed_dict={X:test_data})\n",
    "        # 随机从测试集中抽一些图片（比如第i+j张图片），然后取出对应的预测（即z3[i+j]）：\n",
    "        fig,ax = plt.subplots(4,4,figsize=(15,15))\n",
    "        fig.subplots_adjust(wspace=0.1, hspace=0.7)\n",
    "        for i in range(4):\n",
    "            for j in range(4):\n",
    "                ax[i,j].imshow(test_data[i+j].reshape(57,47),'gray')\n",
    "                # 用argmax函数取出z4中最大的数的序号，即为预测结果：\n",
    "                predicted_num  = np.argmax(pre[i+j]) \n",
    "                true_label = np.argmax(test_label[i+j])\n",
    "                print(\"true_label VS prediction:\",true_label,predicted_num)\n",
    "                # 这里不能用tf.argmax，因为所有的tf操作都是在图中，没法直接取出来\n",
    "                ax[i,j].set_title('Predict:'+str(predicted_num))\n",
    "                ax[i,j].axis('off')\n",
    "        "
   ]
  },
  {
   "cell_type": "markdown",
   "metadata": {},
   "source": [
    "## tensorflow训练结束"
   ]
  },
  {
   "cell_type": "markdown",
   "metadata": {},
   "source": [
    "### 出现的问题\n",
    "##### 第一个问题，图的建立----利用tf.nn.conv2d()---------------解决(由于一张图片对应一个标签，所以，这里做的是先卷积后全连接做分类)\n",
    "##### 第二个问题，网络训练完，保存权重，加载权重测试。---------------解决（还是加载ckpt）\n",
    "##### 第三个问题，怎么完成batch_size的选取------------------------解决(用论文中打乱的方法)"
   ]
  },
  {
   "cell_type": "code",
   "execution_count": 9,
   "metadata": {},
   "outputs": [],
   "source": []
  },
  {
   "cell_type": "code",
   "execution_count": 30,
   "metadata": {},
   "outputs": [],
   "source": [
    "###define placeholder for inputs to network # 给X、Y定义placeholder，要指定数据类型、形状：\n",
    "X = tf.placeholder(tf.float32,[10,2679],name='X')  ##57*47，None表示其值大小不定，在这里作为第一个维度值，用以指代batch的大小，意即x的数量不定\n",
    "Y = tf.placeholder(tf.float32,[10,40],name='Y')  ##40类输出\n",
    "keep_prob = tf.placeholder(tf.float32)  ###定义丢掉率\n",
    "x_image = tf.reshape(X,[-1,57,47,1])##shape:[n_sample,57,57,1]"
   ]
  },
  {
   "cell_type": "code",
   "execution_count": 31,
   "metadata": {},
   "outputs": [],
   "source": [
    "# 方法2\n",
    "def weight_variable(shape):\n",
    "    inital = tf.truncated_normal(shape,stddev=0.1)\n",
    "    return tf.Variable(inital) \n",
    "def bias_variable(shape):\n",
    "    inital = tf.constant(0.1,shape=shape)##初始值为0.1\n",
    "    return tf.Variable(inital) \n",
    "def conv2d(x,W):\n",
    "    ##strides=[batch,height,width,channel]，所以固定不动Batch和channel,只改变height和width的步长\n",
    "    return tf.nn.conv2d(x,W,strides=[1,1,1,1],padding='SAME')  \n",
    "def max_pool_2(x):\n",
    "    ###kszie难道不是指核的大小？？？不是！！！！\n",
    "    return tf.nn.max_pool(x,ksize=[1,2,2,1],strides=[1,2,2,1],padding='SAME')  \n",
    "\n",
    "def infrence(x_image):\n",
    "    ## conv1 layer ##\n",
    "#     print(x_image.shape)\n",
    "    W_conv1 = weight_variable([5,5,1,32]) ##patch5*5,in_size=1,out_size=32\n",
    "    b_conv1 = bias_variable([32])\n",
    "    conv1 = tf.nn.bias_add(conv2d(x_image,W_conv1),b_conv1)  ##output:57*47*32\n",
    "    conv1_relu = tf.nn.relu(conv1)   ##output:57*47*32\n",
    "    conv1_pool = max_pool_2(conv1_relu)  ##output:29*24*32   # 向上取整\n",
    "\n",
    "    ## conv2 layer ##\n",
    "    W_conv2 = weight_variable([5,5,32,64]) ##patch5*5,in_size=32,out_size=64\n",
    "    b_conv2 = bias_variable([64])\n",
    "    conv2 = tf.nn.bias_add(conv2d(conv1_pool,W_conv2),b_conv2)  ##output:29*24*64\n",
    "    conv2_relu = tf.nn.relu(conv2)   ##output:29*24*64\n",
    "    conv2_pool = max_pool_2(conv2_relu)  ##output:15*12*64\n",
    "#     print(conv2_pool.shape)\n",
    "\n",
    "    ##func1 layer##\n",
    "    W_fc1 = weight_variable([15*12*64,1024])\n",
    "    b_fc1 = bias_variable([1024])\n",
    "    ##shape[n_sample,7,7,64]-->>[n_sample,7*7*64]\n",
    "    conv2_pool_flat = tf.reshape(conv2_pool,[-1,15*12*64])\n",
    "    fc1 = tf.matmul(conv2_pool_flat,W_fc1)+b_fc1\n",
    "    fc1_relu = tf.nn.relu(fc1)\n",
    "    fc1_relu_drop = tf.nn.dropout(fc1_relu,keep_prob)\n",
    "\n",
    "    ##func2 layer##\n",
    "    W_fc2 = weight_variable([1024,40])\n",
    "    b_fc2 = bias_variable([40])\n",
    "    fc2 = tf.matmul(fc1_relu_drop,W_fc2)+b_fc2\n",
    "    prediction = tf.nn.softmax(fc2)\n",
    "    return prediction"
   ]
  },
  {
   "cell_type": "code",
   "execution_count": 32,
   "metadata": {},
   "outputs": [],
   "source": [
    "# 定义我们的cost\n",
    "logit = infrence(x_image)\n",
    "cost = tf.reduce_mean(tf.nn.softmax_cross_entropy_with_logits(logits=logit,labels=Y))\n",
    "\n",
    "# 定义optimizer来minimize cost\n",
    "trainer = tf.train.AdamOptimizer().minimize(cost)"
   ]
  },
  {
   "cell_type": "markdown",
   "metadata": {},
   "source": [
    "## 定义next_batch()-----tensorflow有专门的处理程序"
   ]
  },
  {
   "cell_type": "code",
   "execution_count": 35,
   "metadata": {},
   "outputs": [],
   "source": [
    "def get_batch_data(train_data,train_label):\n",
    "    train_data = tf.cast(train_data, tf.float32)\n",
    "    train_label = tf.cast(train_label, tf.float32)\n",
    "    \n",
    "    input_queue = tf.train.slice_input_producer([train_data, train_label], shuffle=False)\n",
    "    image_batch, label_batch = tf.train.batch(input_queue, batch_size=10, num_threads=1, capacity=64)\n",
    "    return image_batch, label_batch"
   ]
  },
  {
   "cell_type": "markdown",
   "metadata": {},
   "source": [
    "### 启动会话注入数据"
   ]
  },
  {
   "cell_type": "code",
   "execution_count": 12,
   "metadata": {},
   "outputs": [
    {
     "name": "stdout",
     "output_type": "stream",
     "text": [
      "iteration0 ,batch_cost:  3.804055\n",
      "iteration200 ,batch_cost:  0.0020234627\n",
      "iteration400 ,batch_cost:  0.00045834994\n",
      "iteration600 ,batch_cost:  0.0001904543\n",
      "iteration800 ,batch_cost:  0.00010328075\n"
     ]
    }
   ],
   "source": [
    "import matplotlib.pyplot as plt\n",
    "with tf.Session() as sess:\n",
    "    # 首先给所有的变量都初始化（不用管什么意思，反正是一句必须的话）：\n",
    "    sess.run(tf.global_variables_initializer())\n",
    "\n",
    "    # 定义一个costs列表，来装迭代过程中的cost，从而好画图分析模型训练进展\n",
    "    costs = []\n",
    "    \n",
    "    # 指定迭代次数：\n",
    "    for it in range(1000):\n",
    "        #############怎么定义batch_size\n",
    "#         error:The value of a feed cannot be a tf.Tensor object. Acceptable feed values include Python scalars, strings, lists, or numpy ndarrays\n",
    "#     数据集是feed输入的，feed的数据格式是有要求的。\n",
    "# 解决：img,label = sess.run[img,label], 用返回值。\n",
    "#         image_batch, label_batch = get_batch_data(train_data,train_label)\n",
    "#         image_batch, label_batch = sess.run([image_batch, label_batch])\n",
    "        # 我们最终需要的是trainer跑起来，并获得cost，所以我们run trainer和cost，同时要把X、Y给feed进去：\n",
    "#         _,batch_cost = sess.run([trainer,cost],feed_dict={X:image_batch,Y:label_batch,keep_prob:0.5})\n",
    "        _,batch_cost = sess.run([trainer,cost],feed_dict={X:train_data,Y:train_label})  #这样写就没有batch_size的概念\n",
    "        costs.append(batch_cost)\n",
    "\n",
    "        # 每100个迭代就打印一次cost：\n",
    "        if it%200 == 0:\n",
    "            print('iteration%d ,batch_cost: '%it,batch_cost)\n",
    "\n",
    "        if it % 200 == 0:\n",
    "            checkpoint = 'saver_face1/' + 'model.ckpt'\n",
    "            saver.save(sess, checkpoint, global_step=global_steps)         \n",
    "    # 训练完成，我们来分别看看来训练集和测试集上的准确率：\n",
    "#     predictions = tf.equal(tf.argmax(tf.transpose(Z4)),tf.argmax(tf.transpose(Y)))\n",
    "#     accuracy = tf.reduce_mean(tf.cast(predictions,'float'))\n",
    "#     print(\"Training set accuracy: \",sess.run(accuracy,feed_dict={X:train_data,Y:train_label}))\n",
    "#     print(\"Test set accuracy:\",sess.run(accuracy,feed_dict={X:test_data,Y:test_label}))\n",
    "\n",
    "################训练完以后应该保存权重，然后再测试的时候加载权重\n",
    "\n",
    "    # ## 随机抽查一些图片，然后输出对应的预测：\n",
    "    # # 这里改了一点上面的预测集准确率的代码，因为我们需要知道预测结果，所以这里我们单独把Z4的值给取出来，\n",
    "    # 这样通过分析Z4，即可知道预测值是什么了。\n",
    "#     z4,acc = sess.run([Z4,accuracy],feed_dict={X:test_data,Y:test_label})\n",
    "#     print(\"Test set accuracy:\",acc)\n",
    "    \n",
    "#     # 随机从测试集中抽一些图片（比如第i+j张图片），然后取出对应的预测（即z3[i+j]）：\n",
    "#     fig,ax = plt.subplots(4,4,figsize=(15,15))\n",
    "#     fig.subplots_adjust(wspace=0.1, hspace=0.7)\n",
    "#     for i in range(4):\n",
    "#         for j in range(4):\n",
    "#             ax[i,j].imshow(test_data[i+j].reshape(57,47),'gray')\n",
    "#             # 用argmax函数取出z4中最大的数的序号，即为预测结果：\n",
    "#             predicted_num  = np.argmax(z4[i+j]) \n",
    "#             true_label = list(test_label[i+j]).index(1)\n",
    "#             print(true_label)\n",
    "#             # 这里不能用tf.argmax，因为所有的tf操作都是在图中，没法直接取出来\n",
    "#             ax[i,j].set_title('Predict:'+str(predicted_num))\n",
    "#             ax[i,j].axis('off')"
   ]
  },
  {
   "cell_type": "code",
   "execution_count": 12,
   "metadata": {},
   "outputs": [
    {
     "name": "stdout",
     "output_type": "stream",
     "text": [
      "INFO:tensorflow:Restoring parameters from saver_face1/model.ckpt-802\n",
      "Training set accuracy:  1.0\n",
      "Test set accuracy: 0.925\n"
     ]
    }
   ],
   "source": [
    "####测试\n",
    "with tf.Graph().as_default():\n",
    "    X = tf.placeholder(tf.float32,[None,2679],name='X')  ##57*47，None表示其值大小不定，在这里作为第一个维度值，用以指代batch的大小，意即x的数量不定\n",
    "    Y = tf.placeholder(tf.float32,[None,40],name='Y')  ##40类输出\n",
    "    prediction = model(X)\n",
    "    saver = tf.train.Saver()\n",
    "    with tf.Session() as sess:\n",
    "        saver.restore(sess, 'saver_face1/model.ckpt-802')\n",
    "#         #         训练完成，我们来分别看看来训练集和测试集上的准确率：\n",
    "#         predictions = tf.equal(tf.argmax(tf.transpose(Z4)),tf.argmax(tf.transpose(Y)))\n",
    "#         accuracy = tf.reduce_mean(tf.cast(predictions,tf.float32))\n",
    "        print(\"Training set accuracy: \",compute_accuracy(train_data,train_label))\n",
    "        print(\"Test set accuracy:\",compute_accuracy(test_data,test_label))"
   ]
  },
  {
   "cell_type": "markdown",
   "metadata": {},
   "source": [
    "## 将标签转为one-hot类型----学习例子"
   ]
  },
  {
   "cell_type": "code",
   "execution_count": 5,
   "metadata": {},
   "outputs": [
    {
     "name": "stdout",
     "output_type": "stream",
     "text": [
      "6\n",
      "[ 0  5 10 15 20 25]\n",
      "[array([ 0,  9, 12, 18, 22, 25])]\n"
     ]
    }
   ],
   "source": [
    "# 先学习一个转为one-hot的写法\n",
    "import numpy as np\n",
    "labels_exe=np.asarray([0,4,2,3,2,0]) \n",
    "num_labels = labels_exe.shape[0]\n",
    "print(num_labels)\n",
    "num_classes=5\n",
    "index_offset = np.arange(num_labels) * num_classes\n",
    "print(index_offset)\n",
    "one_hot = np.zeros((num_labels, num_classes))\n",
    "print([index_offset + labels_exe])\n",
    "# one_hot.flat[index_offset + labels_exe] = 1\n",
    "# print (one_hot)"
   ]
  },
  {
   "cell_type": "code",
   "execution_count": 9,
   "metadata": {},
   "outputs": [
    {
     "data": {
      "text/plain": [
       "(6,)"
      ]
     },
     "execution_count": 9,
     "metadata": {},
     "output_type": "execute_result"
    }
   ],
   "source": [
    "index_offset.shape"
   ]
  },
  {
   "cell_type": "code",
   "execution_count": 10,
   "metadata": {},
   "outputs": [
    {
     "data": {
      "text/plain": [
       "(6,)"
      ]
     },
     "execution_count": 10,
     "metadata": {},
     "output_type": "execute_result"
    }
   ],
   "source": [
    "labels_exe.shape"
   ]
  },
  {
   "cell_type": "code",
   "execution_count": 8,
   "metadata": {},
   "outputs": [
    {
     "data": {
      "text/plain": [
       "(6,)"
      ]
     },
     "execution_count": 8,
     "metadata": {},
     "output_type": "execute_result"
    }
   ],
   "source": [
    "(index_offset + labels_exe).shape"
   ]
  },
  {
   "cell_type": "code",
   "execution_count": 12,
   "metadata": {},
   "outputs": [],
   "source": [
    "one_hot.flat[index_offset + labels_exe] = 1"
   ]
  },
  {
   "cell_type": "code",
   "execution_count": 13,
   "metadata": {},
   "outputs": [
    {
     "data": {
      "text/plain": [
       "array([[1., 0., 0., 0., 0.],\n",
       "       [0., 0., 0., 0., 1.],\n",
       "       [0., 0., 1., 0., 0.],\n",
       "       [0., 0., 0., 1., 0.],\n",
       "       [0., 0., 1., 0., 0.],\n",
       "       [1., 0., 0., 0., 0.]])"
      ]
     },
     "execution_count": 13,
     "metadata": {},
     "output_type": "execute_result"
    }
   ],
   "source": [
    "one_hot"
   ]
  },
  {
   "cell_type": "code",
   "execution_count": 16,
   "metadata": {},
   "outputs": [
    {
     "ename": "IndexError",
     "evalue": "unsupported iterator index",
     "output_type": "error",
     "traceback": [
      "\u001b[1;31m---------------------------------------------------------------------------\u001b[0m",
      "\u001b[1;31mIndexError\u001b[0m                                Traceback (most recent call last)",
      "\u001b[1;32m<ipython-input-16-55589faaedb7>\u001b[0m in \u001b[0;36m<module>\u001b[1;34m()\u001b[0m\n\u001b[0;32m      1\u001b[0m \u001b[0ma\u001b[0m \u001b[1;33m=\u001b[0m \u001b[0mnp\u001b[0m\u001b[1;33m.\u001b[0m\u001b[0mzeros\u001b[0m\u001b[1;33m(\u001b[0m\u001b[1;33m(\u001b[0m\u001b[1;36m2\u001b[0m\u001b[1;33m,\u001b[0m\u001b[1;36m5\u001b[0m\u001b[1;33m)\u001b[0m\u001b[1;33m)\u001b[0m\u001b[1;33m\u001b[0m\u001b[0m\n\u001b[1;32m----> 2\u001b[1;33m \u001b[0ma\u001b[0m\u001b[1;33m.\u001b[0m\u001b[0mflat\u001b[0m\u001b[1;33m[\u001b[0m\u001b[1;36m0\u001b[0m\u001b[1;33m,\u001b[0m\u001b[1;36m9\u001b[0m\u001b[1;33m]\u001b[0m \u001b[1;33m=\u001b[0m \u001b[1;36m1\u001b[0m\u001b[1;33m\u001b[0m\u001b[0m\n\u001b[0m",
      "\u001b[1;31mIndexError\u001b[0m: unsupported iterator index"
     ]
    }
   ],
   "source": [
    "a = np.zeros((2,5))\n",
    "a.flat[0,9] = 1"
   ]
  },
  {
   "cell_type": "code",
   "execution_count": 15,
   "metadata": {},
   "outputs": [
    {
     "data": {
      "text/plain": [
       "array([[1., 0., 0., 0., 0.],\n",
       "       [0., 0., 0., 0., 1.]])"
      ]
     },
     "execution_count": 15,
     "metadata": {},
     "output_type": "execute_result"
    }
   ],
   "source": [
    "a"
   ]
  },
  {
   "cell_type": "markdown",
   "metadata": {},
   "source": [
    "## 将one_hot变为label数字标签"
   ]
  },
  {
   "cell_type": "code",
   "execution_count": 10,
   "metadata": {},
   "outputs": [],
   "source": [
    "b = np.argmax(one_hot,1)"
   ]
  },
  {
   "cell_type": "code",
   "execution_count": 11,
   "metadata": {},
   "outputs": [
    {
     "data": {
      "text/plain": [
       "array([0, 4, 2, 3, 2, 0], dtype=int64)"
      ]
     },
     "execution_count": 11,
     "metadata": {},
     "output_type": "execute_result"
    }
   ],
   "source": [
    "b"
   ]
  },
  {
   "cell_type": "code",
   "execution_count": 8,
   "metadata": {},
   "outputs": [],
   "source": [
    "a=list(one_hot[1])"
   ]
  },
  {
   "cell_type": "code",
   "execution_count": 9,
   "metadata": {},
   "outputs": [],
   "source": [
    "label1 = a.index(1) "
   ]
  },
  {
   "cell_type": "code",
   "execution_count": 49,
   "metadata": {},
   "outputs": [
    {
     "data": {
      "text/plain": [
       "4"
      ]
     },
     "execution_count": 49,
     "metadata": {},
     "output_type": "execute_result"
    }
   ],
   "source": [
    "label1"
   ]
  },
  {
   "cell_type": "code",
   "execution_count": 36,
   "metadata": {},
   "outputs": [],
   "source": [
    "import tensorflow as tf\n",
    "one_hot=tf.one_hot(labels_exe,5)"
   ]
  },
  {
   "cell_type": "code",
   "execution_count": 37,
   "metadata": {},
   "outputs": [
    {
     "data": {
      "text/plain": [
       "<tf.Tensor 'one_hot:0' shape=(6, 5) dtype=float32>"
      ]
     },
     "execution_count": 37,
     "metadata": {},
     "output_type": "execute_result"
    }
   ],
   "source": [
    "one_hot"
   ]
  },
  {
   "cell_type": "code",
   "execution_count": 38,
   "metadata": {},
   "outputs": [
    {
     "name": "stdout",
     "output_type": "stream",
     "text": [
      "[[1. 0. 0. 0. 0.]\n",
      " [0. 0. 0. 0. 1.]\n",
      " [0. 0. 1. 0. 0.]\n",
      " [0. 0. 0. 1. 0.]\n",
      " [0. 0. 1. 0. 0.]\n",
      " [1. 0. 0. 0. 0.]]\n"
     ]
    }
   ],
   "source": [
    "with tf.Session() as sess:\n",
    "    sess.run(tf.global_variables_initializer())\n",
    "\n",
    "    print(sess.run(one_hot))"
   ]
  },
  {
   "cell_type": "code",
   "execution_count": 56,
   "metadata": {},
   "outputs": [],
   "source": [
    "import math\n",
    "H = 57\n",
    "S1 = 2\n",
    "out_height=math.ceil (H /S1 ) "
   ]
  },
  {
   "cell_type": "code",
   "execution_count": 57,
   "metadata": {},
   "outputs": [
    {
     "data": {
      "text/plain": [
       "29"
      ]
     },
     "execution_count": 57,
     "metadata": {},
     "output_type": "execute_result"
    }
   ],
   "source": [
    "out_height"
   ]
  },
  {
   "cell_type": "code",
   "execution_count": 58,
   "metadata": {},
   "outputs": [
    {
     "data": {
      "text/plain": [
       "28.5"
      ]
     },
     "execution_count": 58,
     "metadata": {},
     "output_type": "execute_result"
    }
   ],
   "source": [
    "57/2"
   ]
  },
  {
   "cell_type": "code",
   "execution_count": 59,
   "metadata": {},
   "outputs": [
    {
     "data": {
      "text/plain": [
       "23.5"
      ]
     },
     "execution_count": 59,
     "metadata": {},
     "output_type": "execute_result"
    }
   ],
   "source": [
    "47/2"
   ]
  },
  {
   "cell_type": "code",
   "execution_count": 60,
   "metadata": {},
   "outputs": [
    {
     "data": {
      "text/plain": [
       "14.5"
      ]
     },
     "execution_count": 60,
     "metadata": {},
     "output_type": "execute_result"
    }
   ],
   "source": [
    "29/2"
   ]
  },
  {
   "cell_type": "code",
   "execution_count": null,
   "metadata": {},
   "outputs": [],
   "source": []
  }
 ],
 "metadata": {
  "kernelspec": {
   "display_name": "Python 3",
   "language": "python",
   "name": "python3"
  },
  "language_info": {
   "codemirror_mode": {
    "name": "ipython",
    "version": 3
   },
   "file_extension": ".py",
   "mimetype": "text/x-python",
   "name": "python",
   "nbconvert_exporter": "python",
   "pygments_lexer": "ipython3",
   "version": "3.5.4"
  }
 },
 "nbformat": 4,
 "nbformat_minor": 2
}
