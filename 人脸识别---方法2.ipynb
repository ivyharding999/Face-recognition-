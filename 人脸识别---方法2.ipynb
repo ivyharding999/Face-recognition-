{
 "cells": [
  {
   "cell_type": "code",
   "execution_count": 1,
   "metadata": {},
   "outputs": [
    {
     "name": "stderr",
     "output_type": "stream",
     "text": [
      "d:\\python\\lib\\site-packages\\h5py\\__init__.py:36: FutureWarning: Conversion of the second argument of issubdtype from `float` to `np.floating` is deprecated. In future, it will be treated as `np.float64 == np.dtype(float).type`.\n",
      "  from ._conv import register_converters as _register_converters\n"
     ]
    }
   ],
   "source": [
    "# 读取人脸数据库olivettifaces,并存储为pkl文件\n",
    "import numpy as np\n",
    "from PIL import Image\n",
    "import pickle\n",
    "from sklearn.model_selection import train_test_split\n",
    "import tensorflow as tf\n",
    "import matplotlib.pyplot as plt\n",
    "from datetime import datetime\n",
    "import xlwt\n",
    "import net_input"
   ]
  },
  {
   "cell_type": "markdown",
   "metadata": {},
   "source": [
    "## 读数据"
   ]
  },
  {
   "cell_type": "code",
   "execution_count": 2,
   "metadata": {},
   "outputs": [
    {
     "name": "stdout",
     "output_type": "stream",
     "text": [
      "reading file ...\n",
      "Reading done.\n"
     ]
    }
   ],
   "source": [
    "file_name = 'E:/ivy_machine_learning/program/莫烦学习/人脸识别/faces_data.pkl'\n",
    "dataset, train_data,test_data, train_label,test_label = net_input.read_file(file_name)\n",
    "batch_size = 20"
   ]
  },
  {
   "cell_type": "markdown",
   "metadata": {},
   "source": [
    "## 搭建网络"
   ]
  },
  {
   "cell_type": "code",
   "execution_count": 5,
   "metadata": {},
   "outputs": [],
   "source": [
    "# 方法2\n",
    "def weight_variable(shape):\n",
    "    inital = tf.truncated_normal(shape,stddev=0.1)\n",
    "    return tf.Variable(inital) \n",
    "def bias_variable(shape):\n",
    "    inital = tf.constant(0.1,shape=shape)##初始值为0.1\n",
    "    return tf.Variable(inital) \n",
    "def conv2d(x,W):\n",
    "    ##strides=[batch,height,width,channel]，所以固定不动Batch和channel,只改变height和width的步长\n",
    "    return tf.nn.conv2d(x,W,strides=[1,1,1,1],padding='SAME')  \n",
    "def max_pool_2(x):\n",
    "    ###kszie难道不是指核的大小？？？不是！！！！\n",
    "    return tf.nn.max_pool(x,ksize=[1,2,2,1],strides=[1,2,2,1],padding='SAME')  \n",
    "\n",
    "### （57，47）====》（40）\n",
    "def model(x_image):\n",
    "    ## conv1 layer ##\n",
    "#     print(x_image.shape)\n",
    "    W_conv1 = weight_variable([5,5,1,32]) ##patch5*5,in_size=1,out_size=32\n",
    "    b_conv1 = bias_variable([32])\n",
    "    conv1 = tf.nn.bias_add(conv2d(x_image,W_conv1),b_conv1)  ##output:57*47*32\n",
    "    conv1_relu = tf.nn.relu(conv1)   ##output:57*47*32\n",
    "    conv1_pool = max_pool_2(conv1_relu)  ##output:29*24*32   # 向上取整\n",
    "\n",
    "    ## conv2 layer ##\n",
    "    W_conv2 = weight_variable([5,5,32,64]) ##patch5*5,in_size=32,out_size=64\n",
    "    b_conv2 = bias_variable([64])\n",
    "    conv2 = tf.nn.bias_add(conv2d(conv1_pool,W_conv2),b_conv2)  ##output:29*24*64\n",
    "    conv2_relu = tf.nn.relu(conv2)   ##output:29*24*64\n",
    "    conv2_pool = max_pool_2(conv2_relu)  ##output:15*12*64\n",
    "\n",
    "    ##func1 layer##\n",
    "    W_fc1 = weight_variable([15*12*64,1024])\n",
    "    b_fc1 = bias_variable([1024])\n",
    "    ##shape[n_sample,7,7,64]-->>[n_sample,7*7*64]\n",
    "    conv2_pool_flat = tf.reshape(conv2_pool,[-1,15*12*64])\n",
    "    fc1 = tf.matmul(conv2_pool_flat,W_fc1)+b_fc1\n",
    "    fc1_relu = tf.nn.relu(fc1)\n",
    "    fc1_relu_drop = tf.nn.dropout(fc1_relu,keep_prob) \n",
    "    ##func2 layer##\n",
    "    W_fc2 = weight_variable([1024,40])\n",
    "    b_fc2 = bias_variable([40])\n",
    "    fc2 = tf.matmul(fc1_relu_drop,W_fc2)+b_fc2\n",
    "    return fc2\n",
    "def compute_accuracy(v_xs,v_ys):\n",
    "    global prediction  #将prediction定义为全局变量\n",
    "    y_pre = sess.run(prediction,feed_dict={X:v_xs,Y:v_ys,keep_prob:0.5})  ##得到1行10列的数据，也就是[1,10]\n",
    "    correct_prediction = tf.equal(tf.argmax(y_pre,1),tf.argmax(v_ys,1))\n",
    "    ##取第二维概率最大的（这里索引了最大值的位置），同样标签为最大的值也是我真实的标签值（索引了位置）（我的标签是one_hot类型的）\n",
    "    ###判断预测和真实标签的index是否一样，一样就代表预测正确，否则就错误\n",
    "    accuracy = tf.reduce_mean(tf.cast(correct_prediction,tf.float32))\n",
    "    result = sess.run(accuracy,feed_dict={X:v_xs,Y:v_ys})\n",
    "    return result"
   ]
  },
  {
   "cell_type": "code",
   "execution_count": 6,
   "metadata": {},
   "outputs": [
    {
     "name": "stdout",
     "output_type": "stream",
     "text": [
      "(?, 40)\n",
      "loss: 2018-12-21 20:43:24.476421    Iteration =  0   loss = 31.150\n",
      "loss: 2018-12-21 20:43:27.703828    Iteration =  10   loss = 4.764\n",
      "loss: 2018-12-21 20:43:29.736402    Iteration =  20   loss = 3.683\n"
     ]
    }
   ],
   "source": [
    "# 搭建图-----会话图\n",
    "# workbook = xlwt.Workbook() \n",
    "# sheet = workbook.add_sheet(\"loss\") \n",
    "j = 1\n",
    "with tf.Graph().as_default():\n",
    "#     tf.reset_default_graph() # 这个可以不用细究，是为了防止重复定义报错\n",
    "    ###define placeholder for inputs to network # 给X、Y定义placeholder，要指定数据类型、形状：\n",
    "    X = tf.placeholder(tf.float32,[None,2679],name='X')  ##57*47，None表示其值大小不定，在这里作为第一个维度值，用以指代batch的大小，意即x的数量不定\n",
    "    Y = tf.placeholder(tf.float32,[None,40],name='Y')  ##40类输出\n",
    "    keep_prob = tf.placeholder(tf.float32)  ###定义丢掉率\n",
    "    x_image = tf.reshape(X,[-1,57,47,1])##shape:[n_sample,28,28,1]\n",
    "    \n",
    "    global_steps = tf.Variable(1, trainable=False)\n",
    "    \n",
    "    # 先定义网络-----获得prediction\n",
    "    prediction = model(x_image)\n",
    "    print(prediction.shape)\n",
    "    # 定义我们的cost\n",
    "    cost = tf.reduce_mean(tf.nn.softmax_cross_entropy_with_logits_v2(logits=prediction,labels=Y))\n",
    "    # 定义optimizer来minimize cost\n",
    "    trainer = tf.train.AdamOptimizer().minimize(cost,global_step=global_steps)\n",
    "    saver = tf.train.Saver()\n",
    "  \n",
    "    format_str = \"%s    Iteration =  %d   loss = %0.3f\"\n",
    "    with tf.Session() as sess:\n",
    "        # 首先给所有的变量都初始化（不用管什么意思，反正是一句必须的话）：\n",
    "        sess.run(tf.global_variables_initializer())\n",
    "\n",
    "        # 定义一个costs列表，来装迭代过程中的cost，从而好画图分析模型训练进展\n",
    "        costs = []  \n",
    "\n",
    "        # 指定迭代次数：\n",
    "        for it in range(20+1):\n",
    "            batch = dataset.next_batch(batch_size)\n",
    "            _,batch_cost = sess.run([trainer,cost],feed_dict={X:batch[0],Y:batch[1],keep_prob:0.5})\n",
    "#             _,batch_cost = sess.run([trainer,cost],feed_dict={X:train_data,Y:train_label,keep_prob:0.5})\n",
    "#             loss_new = str(round(batch_cost, 3))\n",
    "#             sheet.write(it, 1, loss_new)\n",
    "#             workbook.save('loss_face.xls')\n",
    "\n",
    "            # 每100个迭代就打印一次cost：\n",
    "            if it % 10 == 0:\n",
    "#                 print('iteration%d ,batch_cost: '%it,batch_cost)\n",
    "                print('loss:',format_str%(datetime.now(),it,batch_cost))\n",
    "#                 print('正确率：',compute_accuracy(train_data,train_label))\n",
    "#                 costs.append(batch_cost)\n",
    "\n",
    "            if it % 20 == 0:\n",
    "                file = str(j)+\"saver_face\"\n",
    "                checkpoint = file+'/' + 'model.ckpt'\n",
    "                saver.save(sess, checkpoint, global_step=global_steps)  \n",
    "                \n",
    "#             if it % 1000 == 0:\n",
    "#                 write_file=open('E:/ivy_machine_learning/program/莫烦学习/人脸识别/faces_loss2.pkl','wb')  \n",
    "#                 pickle.dump(costs,write_file)  # 将数据存入pickle\n",
    "#                 write_file.close() \n",
    "        \n",
    "         ### 训练结束后，看下测试集和训练集上的正确率\n",
    "#         print('test_accuracy:',compute_accuracy(test_data,test_label))\n",
    "#         print('train_accuracy:',compute_accuracy(train_data,train_label))"
   ]
  },
  {
   "cell_type": "code",
   "execution_count": 7,
   "metadata": {},
   "outputs": [],
   "source": [
    "def train():\n",
    "    j = 1\n",
    "    with tf.Graph().as_default():\n",
    "        X = tf.placeholder(tf.float32,[None,2679],name='X')  ##57*47，None表示其值大小不定，在这里作为第一个维度值，用以指代batch的大小，意即x的数量不定\n",
    "        Y = tf.placeholder(tf.float32,[None,40],name='Y')  ##40类输出\n",
    "        keep_prob = tf.placeholder(tf.float32)  ###定义丢掉率\n",
    "        x_image = tf.reshape(X,[-1,57,47,1])##shape:[n_sample,28,28,1] \n",
    "        global_steps = tf.Variable(1, trainable=False)\n",
    "        prediction = model(x_image)\n",
    "        cost = tf.reduce_mean(tf.nn.softmax_cross_entropy_with_logits_v2(logits=prediction,labels=Y))\n",
    "        trainer = tf.train.AdamOptimizer().minimize(cost,global_step=global_steps)\n",
    "        saver = tf.train.Saver()\n",
    "        format_str = \"%s    Iteration =  %d   loss = %0.3f\"\n",
    "        with tf.Session() as sess:\n",
    "            sess.run(tf.global_variables_initializer())\n",
    "            for it in range(20+1):\n",
    "                batch = dataset.next_batch(batch_size)\n",
    "                _,batch_cost = sess.run([trainer,cost],feed_dict={X:batch[0],Y:batch[1],keep_prob:0.5})\n",
    "                if it % 10 == 0:\n",
    "                    print('loss:',format_str%(datetime.now(),it,batch_cost))\n",
    "                if it % 20 == 0:\n",
    "                    file = str(j)+\"saver_face\"\n",
    "                    checkpoint = file+'/' + 'model.ckpt'\n",
    "                    saver.save(sess, checkpoint, global_step=global_steps)  \n",
    "    print('训练结束！')"
   ]
  },
  {
   "cell_type": "code",
   "execution_count": 8,
   "metadata": {},
   "outputs": [
    {
     "ename": "ValueError",
     "evalue": "Tensor(\"dropout/random_uniform:0\", shape=(?, 1024), dtype=float32) must be from the same graph as Tensor(\"Placeholder:0\", dtype=float32).",
     "output_type": "error",
     "traceback": [
      "\u001b[1;31m---------------------------------------------------------------------------\u001b[0m",
      "\u001b[1;31mValueError\u001b[0m                                Traceback (most recent call last)",
      "\u001b[1;32m<ipython-input-8-5021961d5ada>\u001b[0m in \u001b[0;36m<module>\u001b[1;34m()\u001b[0m\n\u001b[0;32m      1\u001b[0m \u001b[1;32mif\u001b[0m \u001b[0m__name__\u001b[0m \u001b[1;33m==\u001b[0m \u001b[1;34m'__main__'\u001b[0m\u001b[1;33m:\u001b[0m\u001b[1;33m\u001b[0m\u001b[0m\n\u001b[1;32m----> 2\u001b[1;33m     \u001b[0mtrain\u001b[0m\u001b[1;33m(\u001b[0m\u001b[1;33m)\u001b[0m\u001b[1;33m\u001b[0m\u001b[0m\n\u001b[0m",
      "\u001b[1;32m<ipython-input-7-2cec84011754>\u001b[0m in \u001b[0;36mtrain\u001b[1;34m()\u001b[0m\n\u001b[0;32m      7\u001b[0m         \u001b[0mx_image\u001b[0m \u001b[1;33m=\u001b[0m \u001b[0mtf\u001b[0m\u001b[1;33m.\u001b[0m\u001b[0mreshape\u001b[0m\u001b[1;33m(\u001b[0m\u001b[0mX\u001b[0m\u001b[1;33m,\u001b[0m\u001b[1;33m[\u001b[0m\u001b[1;33m-\u001b[0m\u001b[1;36m1\u001b[0m\u001b[1;33m,\u001b[0m\u001b[1;36m57\u001b[0m\u001b[1;33m,\u001b[0m\u001b[1;36m47\u001b[0m\u001b[1;33m,\u001b[0m\u001b[1;36m1\u001b[0m\u001b[1;33m]\u001b[0m\u001b[1;33m)\u001b[0m\u001b[1;31m##shape:[n_sample,28,28,1]\u001b[0m\u001b[1;33m\u001b[0m\u001b[0m\n\u001b[0;32m      8\u001b[0m         \u001b[0mglobal_steps\u001b[0m \u001b[1;33m=\u001b[0m \u001b[0mtf\u001b[0m\u001b[1;33m.\u001b[0m\u001b[0mVariable\u001b[0m\u001b[1;33m(\u001b[0m\u001b[1;36m1\u001b[0m\u001b[1;33m,\u001b[0m \u001b[0mtrainable\u001b[0m\u001b[1;33m=\u001b[0m\u001b[1;32mFalse\u001b[0m\u001b[1;33m)\u001b[0m\u001b[1;33m\u001b[0m\u001b[0m\n\u001b[1;32m----> 9\u001b[1;33m         \u001b[0mprediction\u001b[0m \u001b[1;33m=\u001b[0m \u001b[0mmodel\u001b[0m\u001b[1;33m(\u001b[0m\u001b[0mx_image\u001b[0m\u001b[1;33m)\u001b[0m\u001b[1;33m\u001b[0m\u001b[0m\n\u001b[0m\u001b[0;32m     10\u001b[0m         \u001b[0mcost\u001b[0m \u001b[1;33m=\u001b[0m \u001b[0mtf\u001b[0m\u001b[1;33m.\u001b[0m\u001b[0mreduce_mean\u001b[0m\u001b[1;33m(\u001b[0m\u001b[0mtf\u001b[0m\u001b[1;33m.\u001b[0m\u001b[0mnn\u001b[0m\u001b[1;33m.\u001b[0m\u001b[0msoftmax_cross_entropy_with_logits_v2\u001b[0m\u001b[1;33m(\u001b[0m\u001b[0mlogits\u001b[0m\u001b[1;33m=\u001b[0m\u001b[0mprediction\u001b[0m\u001b[1;33m,\u001b[0m\u001b[0mlabels\u001b[0m\u001b[1;33m=\u001b[0m\u001b[0mY\u001b[0m\u001b[1;33m)\u001b[0m\u001b[1;33m)\u001b[0m\u001b[1;33m\u001b[0m\u001b[0m\n\u001b[0;32m     11\u001b[0m         \u001b[0mtrainer\u001b[0m \u001b[1;33m=\u001b[0m \u001b[0mtf\u001b[0m\u001b[1;33m.\u001b[0m\u001b[0mtrain\u001b[0m\u001b[1;33m.\u001b[0m\u001b[0mAdamOptimizer\u001b[0m\u001b[1;33m(\u001b[0m\u001b[1;33m)\u001b[0m\u001b[1;33m.\u001b[0m\u001b[0mminimize\u001b[0m\u001b[1;33m(\u001b[0m\u001b[0mcost\u001b[0m\u001b[1;33m,\u001b[0m\u001b[0mglobal_step\u001b[0m\u001b[1;33m=\u001b[0m\u001b[0mglobal_steps\u001b[0m\u001b[1;33m)\u001b[0m\u001b[1;33m\u001b[0m\u001b[0m\n",
      "\u001b[1;32m<ipython-input-5-4393cb9c715e>\u001b[0m in \u001b[0;36mmodel\u001b[1;34m(x_image)\u001b[0m\n\u001b[0;32m     37\u001b[0m     \u001b[0mfc1\u001b[0m \u001b[1;33m=\u001b[0m \u001b[0mtf\u001b[0m\u001b[1;33m.\u001b[0m\u001b[0mmatmul\u001b[0m\u001b[1;33m(\u001b[0m\u001b[0mconv2_pool_flat\u001b[0m\u001b[1;33m,\u001b[0m\u001b[0mW_fc1\u001b[0m\u001b[1;33m)\u001b[0m\u001b[1;33m+\u001b[0m\u001b[0mb_fc1\u001b[0m\u001b[1;33m\u001b[0m\u001b[0m\n\u001b[0;32m     38\u001b[0m     \u001b[0mfc1_relu\u001b[0m \u001b[1;33m=\u001b[0m \u001b[0mtf\u001b[0m\u001b[1;33m.\u001b[0m\u001b[0mnn\u001b[0m\u001b[1;33m.\u001b[0m\u001b[0mrelu\u001b[0m\u001b[1;33m(\u001b[0m\u001b[0mfc1\u001b[0m\u001b[1;33m)\u001b[0m\u001b[1;33m\u001b[0m\u001b[0m\n\u001b[1;32m---> 39\u001b[1;33m     \u001b[0mfc1_relu_drop\u001b[0m \u001b[1;33m=\u001b[0m \u001b[0mtf\u001b[0m\u001b[1;33m.\u001b[0m\u001b[0mnn\u001b[0m\u001b[1;33m.\u001b[0m\u001b[0mdropout\u001b[0m\u001b[1;33m(\u001b[0m\u001b[0mfc1_relu\u001b[0m\u001b[1;33m,\u001b[0m\u001b[0mkeep_prob\u001b[0m\u001b[1;33m)\u001b[0m\u001b[1;33m\u001b[0m\u001b[0m\n\u001b[0m\u001b[0;32m     40\u001b[0m     \u001b[1;31m##func2 layer##\u001b[0m\u001b[1;33m\u001b[0m\u001b[1;33m\u001b[0m\u001b[0m\n\u001b[0;32m     41\u001b[0m     \u001b[0mW_fc2\u001b[0m \u001b[1;33m=\u001b[0m \u001b[0mweight_variable\u001b[0m\u001b[1;33m(\u001b[0m\u001b[1;33m[\u001b[0m\u001b[1;36m1024\u001b[0m\u001b[1;33m,\u001b[0m\u001b[1;36m40\u001b[0m\u001b[1;33m]\u001b[0m\u001b[1;33m)\u001b[0m\u001b[1;33m\u001b[0m\u001b[0m\n",
      "\u001b[1;32md:\\python\\lib\\site-packages\\tensorflow\\python\\ops\\nn_ops.py\u001b[0m in \u001b[0;36mdropout\u001b[1;34m(x, keep_prob, noise_shape, seed, name)\u001b[0m\n\u001b[0;32m   2316\u001b[0m     \u001b[0mrandom_tensor\u001b[0m \u001b[1;33m=\u001b[0m \u001b[0mkeep_prob\u001b[0m\u001b[1;33m\u001b[0m\u001b[0m\n\u001b[0;32m   2317\u001b[0m     random_tensor += random_ops.random_uniform(\n\u001b[1;32m-> 2318\u001b[1;33m         noise_shape, seed=seed, dtype=x.dtype)\n\u001b[0m\u001b[0;32m   2319\u001b[0m     \u001b[1;31m# 0. if [keep_prob, 1.0) and 1. if [1.0, 1.0 + keep_prob)\u001b[0m\u001b[1;33m\u001b[0m\u001b[1;33m\u001b[0m\u001b[0m\n\u001b[0;32m   2320\u001b[0m     \u001b[0mbinary_tensor\u001b[0m \u001b[1;33m=\u001b[0m \u001b[0mmath_ops\u001b[0m\u001b[1;33m.\u001b[0m\u001b[0mfloor\u001b[0m\u001b[1;33m(\u001b[0m\u001b[0mrandom_tensor\u001b[0m\u001b[1;33m)\u001b[0m\u001b[1;33m\u001b[0m\u001b[0m\n",
      "\u001b[1;32md:\\python\\lib\\site-packages\\tensorflow\\python\\ops\\math_ops.py\u001b[0m in \u001b[0;36mbinary_op_wrapper\u001b[1;34m(x, y)\u001b[0m\n\u001b[0;32m    957\u001b[0m \u001b[1;33m\u001b[0m\u001b[0m\n\u001b[0;32m    958\u001b[0m   \u001b[1;32mdef\u001b[0m \u001b[0mbinary_op_wrapper\u001b[0m\u001b[1;33m(\u001b[0m\u001b[0mx\u001b[0m\u001b[1;33m,\u001b[0m \u001b[0my\u001b[0m\u001b[1;33m)\u001b[0m\u001b[1;33m:\u001b[0m\u001b[1;33m\u001b[0m\u001b[0m\n\u001b[1;32m--> 959\u001b[1;33m     \u001b[1;32mwith\u001b[0m \u001b[0mops\u001b[0m\u001b[1;33m.\u001b[0m\u001b[0mname_scope\u001b[0m\u001b[1;33m(\u001b[0m\u001b[1;32mNone\u001b[0m\u001b[1;33m,\u001b[0m \u001b[0mop_name\u001b[0m\u001b[1;33m,\u001b[0m \u001b[1;33m[\u001b[0m\u001b[0mx\u001b[0m\u001b[1;33m,\u001b[0m \u001b[0my\u001b[0m\u001b[1;33m]\u001b[0m\u001b[1;33m)\u001b[0m \u001b[1;32mas\u001b[0m \u001b[0mname\u001b[0m\u001b[1;33m:\u001b[0m\u001b[1;33m\u001b[0m\u001b[0m\n\u001b[0m\u001b[0;32m    960\u001b[0m       \u001b[1;32mif\u001b[0m \u001b[1;32mnot\u001b[0m \u001b[0misinstance\u001b[0m\u001b[1;33m(\u001b[0m\u001b[0my\u001b[0m\u001b[1;33m,\u001b[0m \u001b[0msparse_tensor\u001b[0m\u001b[1;33m.\u001b[0m\u001b[0mSparseTensor\u001b[0m\u001b[1;33m)\u001b[0m\u001b[1;33m:\u001b[0m\u001b[1;33m\u001b[0m\u001b[0m\n\u001b[0;32m    961\u001b[0m         \u001b[1;32mtry\u001b[0m\u001b[1;33m:\u001b[0m\u001b[1;33m\u001b[0m\u001b[0m\n",
      "\u001b[1;32md:\\python\\lib\\site-packages\\tensorflow\\python\\framework\\ops.py\u001b[0m in \u001b[0;36m__enter__\u001b[1;34m(self)\u001b[0m\n\u001b[0;32m   5768\u001b[0m       \u001b[1;32mif\u001b[0m \u001b[0mself\u001b[0m\u001b[1;33m.\u001b[0m\u001b[0m_values\u001b[0m \u001b[1;32mis\u001b[0m \u001b[1;32mNone\u001b[0m\u001b[1;33m:\u001b[0m\u001b[1;33m\u001b[0m\u001b[0m\n\u001b[0;32m   5769\u001b[0m         \u001b[0mself\u001b[0m\u001b[1;33m.\u001b[0m\u001b[0m_values\u001b[0m \u001b[1;33m=\u001b[0m \u001b[1;33m[\u001b[0m\u001b[1;33m]\u001b[0m\u001b[1;33m\u001b[0m\u001b[0m\n\u001b[1;32m-> 5770\u001b[1;33m       \u001b[0mg\u001b[0m \u001b[1;33m=\u001b[0m \u001b[0m_get_graph_from_inputs\u001b[0m\u001b[1;33m(\u001b[0m\u001b[0mself\u001b[0m\u001b[1;33m.\u001b[0m\u001b[0m_values\u001b[0m\u001b[1;33m)\u001b[0m\u001b[1;33m\u001b[0m\u001b[0m\n\u001b[0m\u001b[0;32m   5771\u001b[0m       \u001b[0mself\u001b[0m\u001b[1;33m.\u001b[0m\u001b[0m_g_manager\u001b[0m \u001b[1;33m=\u001b[0m \u001b[0mg\u001b[0m\u001b[1;33m.\u001b[0m\u001b[0mas_default\u001b[0m\u001b[1;33m(\u001b[0m\u001b[1;33m)\u001b[0m\u001b[1;33m\u001b[0m\u001b[0m\n\u001b[0;32m   5772\u001b[0m       \u001b[0mself\u001b[0m\u001b[1;33m.\u001b[0m\u001b[0m_g_manager\u001b[0m\u001b[1;33m.\u001b[0m\u001b[0m__enter__\u001b[0m\u001b[1;33m(\u001b[0m\u001b[1;33m)\u001b[0m\u001b[1;33m\u001b[0m\u001b[0m\n",
      "\u001b[1;32md:\\python\\lib\\site-packages\\tensorflow\\python\\framework\\ops.py\u001b[0m in \u001b[0;36m_get_graph_from_inputs\u001b[1;34m(op_input_list, graph)\u001b[0m\n\u001b[0;32m   5428\u001b[0m         \u001b[0mgraph\u001b[0m \u001b[1;33m=\u001b[0m \u001b[0mgraph_element\u001b[0m\u001b[1;33m.\u001b[0m\u001b[0mgraph\u001b[0m\u001b[1;33m\u001b[0m\u001b[0m\n\u001b[0;32m   5429\u001b[0m       \u001b[1;32melif\u001b[0m \u001b[0moriginal_graph_element\u001b[0m \u001b[1;32mis\u001b[0m \u001b[1;32mnot\u001b[0m \u001b[1;32mNone\u001b[0m\u001b[1;33m:\u001b[0m\u001b[1;33m\u001b[0m\u001b[0m\n\u001b[1;32m-> 5430\u001b[1;33m         \u001b[0m_assert_same_graph\u001b[0m\u001b[1;33m(\u001b[0m\u001b[0moriginal_graph_element\u001b[0m\u001b[1;33m,\u001b[0m \u001b[0mgraph_element\u001b[0m\u001b[1;33m)\u001b[0m\u001b[1;33m\u001b[0m\u001b[0m\n\u001b[0m\u001b[0;32m   5431\u001b[0m       \u001b[1;32melif\u001b[0m \u001b[0mgraph_element\u001b[0m\u001b[1;33m.\u001b[0m\u001b[0mgraph\u001b[0m \u001b[1;32mis\u001b[0m \u001b[1;32mnot\u001b[0m \u001b[0mgraph\u001b[0m\u001b[1;33m:\u001b[0m\u001b[1;33m\u001b[0m\u001b[0m\n\u001b[0;32m   5432\u001b[0m         \u001b[1;32mraise\u001b[0m \u001b[0mValueError\u001b[0m\u001b[1;33m(\u001b[0m\u001b[1;34m\"%s is not from the passed-in graph.\"\u001b[0m \u001b[1;33m%\u001b[0m \u001b[0mgraph_element\u001b[0m\u001b[1;33m)\u001b[0m\u001b[1;33m\u001b[0m\u001b[0m\n",
      "\u001b[1;32md:\\python\\lib\\site-packages\\tensorflow\\python\\framework\\ops.py\u001b[0m in \u001b[0;36m_assert_same_graph\u001b[1;34m(original_item, item)\u001b[0m\n\u001b[0;32m   5364\u001b[0m   \u001b[1;32mif\u001b[0m \u001b[0moriginal_item\u001b[0m\u001b[1;33m.\u001b[0m\u001b[0mgraph\u001b[0m \u001b[1;32mis\u001b[0m \u001b[1;32mnot\u001b[0m \u001b[0mitem\u001b[0m\u001b[1;33m.\u001b[0m\u001b[0mgraph\u001b[0m\u001b[1;33m:\u001b[0m\u001b[1;33m\u001b[0m\u001b[0m\n\u001b[0;32m   5365\u001b[0m     raise ValueError(\"%s must be from the same graph as %s.\" % (item,\n\u001b[1;32m-> 5366\u001b[1;33m                                                                 original_item))\n\u001b[0m\u001b[0;32m   5367\u001b[0m \u001b[1;33m\u001b[0m\u001b[0m\n\u001b[0;32m   5368\u001b[0m \u001b[1;33m\u001b[0m\u001b[0m\n",
      "\u001b[1;31mValueError\u001b[0m: Tensor(\"dropout/random_uniform:0\", shape=(?, 1024), dtype=float32) must be from the same graph as Tensor(\"Placeholder:0\", dtype=float32)."
     ]
    }
   ],
   "source": [
    "if __name__ == '__main__':\n",
    "    train()"
   ]
  },
  {
   "cell_type": "code",
   "execution_count": null,
   "metadata": {},
   "outputs": [],
   "source": []
  }
 ],
 "metadata": {
  "kernelspec": {
   "display_name": "Python 3",
   "language": "python",
   "name": "python3"
  },
  "language_info": {
   "codemirror_mode": {
    "name": "ipython",
    "version": 3
   },
   "file_extension": ".py",
   "mimetype": "text/x-python",
   "name": "python",
   "nbconvert_exporter": "python",
   "pygments_lexer": "ipython3",
   "version": "3.5.4"
  }
 },
 "nbformat": 4,
 "nbformat_minor": 2
}
